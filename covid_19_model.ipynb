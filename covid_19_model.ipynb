{
 "cells": [
  {
   "cell_type": "markdown",
   "metadata": {},
   "source": [
    "## COVID-19 Modeling Pipeline"
   ]
  },
  {
   "cell_type": "code",
   "execution_count": null,
   "metadata": {},
   "outputs": [],
   "source": [
    "!bq --location=US mk --dataset covid_19_modeled"
   ]
  },
  {
   "cell_type": "code",
   "execution_count": null,
   "metadata": {},
   "outputs": [],
   "source": [
    "%%bigquery\n",
    "create or replace table covid_19_modeled.Cases\n",
    "as select null as id, * from covid_19_staging.Cases"
   ]
  },
  {
   "cell_type": "markdown",
   "metadata": {},
   "source": [
    "### Compute fingerprint of location fields (state, country) "
   ]
  },
  {
   "cell_type": "code",
   "execution_count": null,
   "metadata": {},
   "outputs": [],
   "source": [
    "%%bigquery\n",
    "update covid_19_modeled.Cases set id = FARM_FINGERPRINT(country) \n",
    "where state is null"
   ]
  },
  {
   "cell_type": "markdown",
   "metadata": {},
   "source": [
    "#### Q1: Compute fingerprint of state + country where state is not null"
   ]
  },
  {
   "cell_type": "code",
   "execution_count": null,
   "metadata": {},
   "outputs": [],
   "source": []
  },
  {
   "cell_type": "markdown",
   "metadata": {},
   "source": [
    "#### Make sure that id field has no null values"
   ]
  },
  {
   "cell_type": "code",
   "execution_count": null,
   "metadata": {},
   "outputs": [],
   "source": [
    "%%bigquery\n",
    "select count(*) as null_id_count\n",
    "from covid_19_modeled.Cases\n",
    "where id is null"
   ]
  },
  {
   "cell_type": "code",
   "execution_count": null,
   "metadata": {},
   "outputs": [],
   "source": [
    "%%bigquery\n",
    "select id, state, country\n",
    "from covid_19_modeled.Cases\n",
    "order by state, country\n",
    "limit 5"
   ]
  },
  {
   "cell_type": "markdown",
   "metadata": {},
   "source": [
    "### Split Cases table"
   ]
  },
  {
   "cell_type": "code",
   "execution_count": null,
   "metadata": {},
   "outputs": [],
   "source": [
    "%%bigquery\n",
    "create or replace table covid_19_modeled.Location_Temp\n",
    "as select distinct id, state, country, latitude, longitude\n",
    "from covid_19_modeled.Cases"
   ]
  },
  {
   "cell_type": "markdown",
   "metadata": {},
   "source": [
    "#### Q2: Get record count of table Location_Temp"
   ]
  },
  {
   "cell_type": "code",
   "execution_count": null,
   "metadata": {},
   "outputs": [],
   "source": []
  },
  {
   "cell_type": "code",
   "execution_count": null,
   "metadata": {},
   "outputs": [],
   "source": [
    "%%bigquery\n",
    "create or replace table covid_19_modeled.Event_Temp\n",
    "as select id as location_id, last_update, confirmed, deaths, recovered\n",
    "from covid_19_modeled.Cases"
   ]
  },
  {
   "cell_type": "markdown",
   "metadata": {},
   "source": [
    "#### Q3: Get record count of table Event_Temp"
   ]
  },
  {
   "cell_type": "code",
   "execution_count": null,
   "metadata": {},
   "outputs": [],
   "source": []
  },
  {
   "cell_type": "markdown",
   "metadata": {},
   "source": [
    "#### Sample oldest and most recent Event_Temp records"
   ]
  },
  {
   "cell_type": "code",
   "execution_count": null,
   "metadata": {},
   "outputs": [],
   "source": [
    "%%bigquery\n",
    "select * from covid_19_modeled.Event_Temp\n",
    "order by last_update\n",
    "limit 5"
   ]
  },
  {
   "cell_type": "code",
   "execution_count": null,
   "metadata": {},
   "outputs": [],
   "source": [
    "%%bigquery\n",
    "select * from covid_19_modeled.Event_Temp\n",
    "order by last_update desc\n",
    "limit 5"
   ]
  },
  {
   "cell_type": "markdown",
   "metadata": {},
   "source": [
    "### Option A: Standardize timestamps with SQL"
   ]
  },
  {
   "cell_type": "code",
   "execution_count": null,
   "metadata": {},
   "outputs": [],
   "source": [
    "%%bigquery\n",
    "create or replace table covid_19_modeled.Event_SQL1 as\n",
    "select *\n",
    "from covid_19_modeled.Event_Temp\n",
    "where strpos(last_update, '/') > 0"
   ]
  },
  {
   "cell_type": "markdown",
   "metadata": {},
   "source": [
    "#### Note: Event_SQL1 has all the records with '/'"
   ]
  },
  {
   "cell_type": "markdown",
   "metadata": {},
   "source": [
    "#### Q4: Get record count for timestamps containing '/' (i.e. mm/dd/yyyy or mm/dd/yy):"
   ]
  },
  {
   "cell_type": "code",
   "execution_count": null,
   "metadata": {},
   "outputs": [],
   "source": []
  },
  {
   "cell_type": "code",
   "execution_count": null,
   "metadata": {},
   "outputs": [],
   "source": [
    "%%bigquery\n",
    "create or replace table covid_19_modeled.Event_SQL2 as\n",
    "select location_id, cast(last_update as datetime) last_update, confirmed, deaths, recovered \n",
    "from covid_19_modeled.Event_Temp\n",
    "where strpos(last_update, '-') > 0"
   ]
  },
  {
   "cell_type": "markdown",
   "metadata": {},
   "source": [
    "#### Note: Event_SQL2 has all the records with '-'"
   ]
  },
  {
   "cell_type": "markdown",
   "metadata": {},
   "source": [
    "#### Q5: Get record count for timestamps containing '-' (i.e. yyyy-mm-dd):"
   ]
  },
  {
   "cell_type": "code",
   "execution_count": null,
   "metadata": {},
   "outputs": [],
   "source": []
  },
  {
   "cell_type": "code",
   "execution_count": null,
   "metadata": {},
   "outputs": [],
   "source": [
    "%%bigquery\n",
    "select last_update, length(split(split(last_update, ' ')[offset(0)], '/')[offset(2)]) as year_length\n",
    "from\n",
    "(select distinct last_update\n",
    "from covid_19_modeled.Event_SQL1)\n",
    "limit 12"
   ]
  },
  {
   "cell_type": "code",
   "execution_count": null,
   "metadata": {},
   "outputs": [],
   "source": [
    "%%bigquery\n",
    "select last_update, parse_datetime('%m/%d/%y %H:%M', last_update) as last_update_datetime\n",
    "from\n",
    "(select distinct last_update\n",
    "from covid_19_modeled.Event_SQL1)\n",
    "where length(split(split(last_update, ' ')[offset(0)], '/')[offset(2)]) = 2\n",
    "limit 12"
   ]
  },
  {
   "cell_type": "code",
   "execution_count": null,
   "metadata": {},
   "outputs": [],
   "source": [
    "%%bigquery\n",
    "create or replace table covid_19_modeled.Event_SQL1 as\n",
    "select location_id, parse_datetime('%m/%d/%y %H:%M', last_update) as last_update, confirmed, deaths, recovered\n",
    "from covid_19_modeled.Event_SQL1\n",
    "where length(split(split(last_update, ' ')[offset(0)], '/')[offset(2)]) = 2\n",
    "union all\n",
    "select location_id, parse_datetime('%m/%d/%Y %H:%M', last_update) as last_update, confirmed, deaths, recovered\n",
    "from covid_19_modeled.Event_SQL1\n",
    "where length(split(split(last_update, ' ')[offset(0)], '/')[offset(2)]) = 4"
   ]
  },
  {
   "cell_type": "code",
   "execution_count": null,
   "metadata": {},
   "outputs": [],
   "source": [
    "%%bigquery\n",
    "select * from\n",
    "(select distinct last_update \n",
    "from covid_19_modeled.Event_SQL1)\n",
    "order by last_update\n",
    "limit 8"
   ]
  },
  {
   "cell_type": "markdown",
   "metadata": {},
   "source": [
    "#### Q6: Make new table Event_SQL3 as the union of Event_SQL1 + Event_SQL2"
   ]
  },
  {
   "cell_type": "code",
   "execution_count": null,
   "metadata": {},
   "outputs": [],
   "source": []
  },
  {
   "cell_type": "code",
   "execution_count": null,
   "metadata": {},
   "outputs": [],
   "source": [
    "%%bigquery\n",
    "select count(*) total_event_count\n",
    "from covid_19_modeled.Event_SQL3"
   ]
  },
  {
   "cell_type": "markdown",
   "metadata": {},
   "source": [
    "### Option B: Standardize timestamps with Beam"
   ]
  },
  {
   "cell_type": "markdown",
   "metadata": {},
   "source": [
    "#### Note: change kernel before running"
   ]
  },
  {
   "cell_type": "code",
   "execution_count": null,
   "metadata": {},
   "outputs": [],
   "source": [
    "%run Event_beam1.py"
   ]
  },
  {
   "cell_type": "markdown",
   "metadata": {},
   "source": [
    "### Check primary key constraint on Event table"
   ]
  },
  {
   "cell_type": "code",
   "execution_count": null,
   "metadata": {},
   "outputs": [],
   "source": [
    "%%bigquery\n",
    "select count(*) as total_event_count from covid_19_modeled.Event_Beam1"
   ]
  },
  {
   "cell_type": "code",
   "execution_count": null,
   "metadata": {},
   "outputs": [],
   "source": [
    "%%bigquery\n",
    "select count(*) as distinct_event_count from\n",
    "(select distinct last_update, location_id as distinct_event_count from covid_19_modeled.Event_Beam1)"
   ]
  },
  {
   "cell_type": "markdown",
   "metadata": {},
   "source": [
    "#### Q7: Find duplicate event records in Event_Beam1"
   ]
  },
  {
   "cell_type": "code",
   "execution_count": null,
   "metadata": {},
   "outputs": [],
   "source": []
  },
  {
   "cell_type": "code",
   "execution_count": null,
   "metadata": {},
   "outputs": [],
   "source": [
    "%%bigquery\n",
    "select * from covid_19_modeled.Event_Beam1\n",
    "where last_update = '2020-02-08 03:43:03'\n",
    "and location_id = -2740713481135259291\n",
    "limit 7"
   ]
  },
  {
   "cell_type": "markdown",
   "metadata": {},
   "source": [
    "#### Note: we have the same duplicate records in Event_SQL3"
   ]
  },
  {
   "cell_type": "markdown",
   "metadata": {},
   "source": [
    "### Option A: Detect and remove duplicate events with SQL"
   ]
  },
  {
   "cell_type": "markdown",
   "metadata": {},
   "source": [
    "#### Q8: Remove duplicate events from Event_SQL3 with select distinct"
   ]
  },
  {
   "cell_type": "code",
   "execution_count": null,
   "metadata": {},
   "outputs": [],
   "source": []
  },
  {
   "cell_type": "code",
   "execution_count": null,
   "metadata": {},
   "outputs": [],
   "source": [
    "%%bigquery\n",
    "select count(*) as total_event_count from covid_19_modeled.Event_SQL3"
   ]
  },
  {
   "cell_type": "code",
   "execution_count": null,
   "metadata": {},
   "outputs": [],
   "source": [
    "%%bigquery\n",
    "select location_id, last_update, count(*) as duplicate_events\n",
    "from covid_19_modeled.Event_SQL3\n",
    "group by location_id, last_update\n",
    "having count(*) > 1\n",
    "order by count(*) desc\n",
    "limit 5"
   ]
  },
  {
   "cell_type": "code",
   "execution_count": null,
   "metadata": {},
   "outputs": [],
   "source": [
    "%%bigquery\n",
    "select * from covid_19_modeled.Event_SQL3\n",
    "where location_id = -118082929383066870 and last_update = '2020-03-14 16:53:03'"
   ]
  },
  {
   "cell_type": "code",
   "execution_count": null,
   "metadata": {},
   "outputs": [],
   "source": [
    "%%bigquery\n",
    "select *, \n",
    "rank() over (partition by location_id, last_update order by confirmed desc) as rank\n",
    "from covid_19_modeled.Event_SQL3\n",
    "where location_id in (-118082929383066870, 5199822387082299175)\n",
    "limit 30"
   ]
  },
  {
   "cell_type": "code",
   "execution_count": null,
   "metadata": {},
   "outputs": [],
   "source": [
    "%%bigquery\n",
    "create or replace table covid_19_modeled.Event_SQL4 as\n",
    "select location_id, last_update, confirmed, deaths, recovered\n",
    "from\n",
    "(select *, \n",
    "rank() over (partition by location_id, last_update order by confirmed desc) as rank\n",
    "from covid_19_modeled.Event_SQL3)\n",
    "where rank = 1"
   ]
  },
  {
   "cell_type": "markdown",
   "metadata": {},
   "source": [
    "#### Recheck primary key constraint on Event_SQL4"
   ]
  },
  {
   "cell_type": "code",
   "execution_count": null,
   "metadata": {},
   "outputs": [],
   "source": [
    "%%bigquery\n",
    "select count(*) total_event_count\n",
    "from covid_19_modeled.Event_SQL4 "
   ]
  },
  {
   "cell_type": "code",
   "execution_count": null,
   "metadata": {},
   "outputs": [],
   "source": [
    "%%bigquery\n",
    "select count(*) distinct_event_count\n",
    "from\n",
    "(select distinct location_id, last_update\n",
    "from covid_19_modeled.Event_SQL4) "
   ]
  },
  {
   "cell_type": "markdown",
   "metadata": {},
   "source": [
    "### Option B: Detect and remove duplicate event records with Beam"
   ]
  },
  {
   "cell_type": "markdown",
   "metadata": {},
   "source": [
    "#### Remember to change kernel before running beam script"
   ]
  },
  {
   "cell_type": "code",
   "execution_count": null,
   "metadata": {},
   "outputs": [],
   "source": [
    "%run Event_beam2.py"
   ]
  },
  {
   "cell_type": "markdown",
   "metadata": {},
   "source": [
    "#### Recheck primary key constraint on Event table"
   ]
  },
  {
   "cell_type": "code",
   "execution_count": null,
   "metadata": {},
   "outputs": [],
   "source": [
    "%%bigquery\n",
    "select count(*) as total_event_count from covid_19_modeled.Event_Beam2"
   ]
  },
  {
   "cell_type": "code",
   "execution_count": null,
   "metadata": {},
   "outputs": [],
   "source": [
    "%%bigquery\n",
    "select count(*) as distinct_event_count from\n",
    "(select distinct last_update, location_id as distinct_event_count from covid_19_modeled.Event_Beam2)"
   ]
  },
  {
   "cell_type": "markdown",
   "metadata": {},
   "source": [
    "### Check that Event_Beam2 == Event_SQL4"
   ]
  },
  {
   "cell_type": "code",
   "execution_count": null,
   "metadata": {},
   "outputs": [],
   "source": [
    "%%bigquery\n",
    "select *, count(*) as duplicate_records\n",
    "from\n",
    "(select * \n",
    "from covid_19_modeled.Event_Beam2\n",
    "union all\n",
    "select * from \n",
    "covid_19_modeled.Event_SQL4)\n",
    "group by location_id, last_update, confirmed, deaths, recovered\n",
    "having count(*) != 2\n",
    "order by location_id, last_update"
   ]
  },
  {
   "cell_type": "code",
   "execution_count": null,
   "metadata": {},
   "outputs": [],
   "source": [
    "%%bigquery\n",
    "(select * \n",
    "from covid_19_modeled.Event_Beam2\n",
    "union distinct\n",
    "select * from \n",
    "covid_19_modeled.Event_SQL4)\n",
    "except distinct\n",
    "(select * from covid_19_modeled.Event_Beam2\n",
    "intersect distinct\n",
    "select * from covid_19_modeled.Event_SQL4)"
   ]
  },
  {
   "cell_type": "code",
   "execution_count": null,
   "metadata": {},
   "outputs": [],
   "source": [
    "%%bigquery\n",
    "create or replace table covid_19_modeled.Event as\n",
    "select * from covid_19_modeled.Event_SQL4"
   ]
  },
  {
   "cell_type": "markdown",
   "metadata": {},
   "source": [
    "### Done with Event table. Do the same thing with Location table.  "
   ]
  },
  {
   "cell_type": "markdown",
   "metadata": {},
   "source": [
    "### Option A: Standardize city, state with SQL"
   ]
  },
  {
   "cell_type": "code",
   "execution_count": null,
   "metadata": {},
   "outputs": [],
   "source": [
    "%%bigquery\n",
    "select count(*) location_count\n",
    "from covid_19_modeled.Location_Temp"
   ]
  },
  {
   "cell_type": "code",
   "execution_count": null,
   "metadata": {},
   "outputs": [],
   "source": [
    "%%bigquery\n",
    "select id, state, strpos(state, ',') as index, country, latitude, longitude\n",
    "from covid_19_modeled.Location_Temp\n",
    "where strpos(state, ',') > 0\n",
    "limit 6"
   ]
  },
  {
   "cell_type": "code",
   "execution_count": null,
   "metadata": {},
   "outputs": [],
   "source": [
    "%%bigquery\n",
    "select state as orig_state, split(state, ',')[offset(0)] parsed_state, split(state, ',')[offset(1)] parsed_city,\n",
    "from covid_19_modeled.Location_Temp\n",
    "where strpos(state, ',') > 0\n",
    "limit 10"
   ]
  },
  {
   "cell_type": "code",
   "execution_count": null,
   "metadata": {},
   "outputs": [],
   "source": [
    "%%bigquery\n",
    "create or replace table covid_19_modeled.Location_SQL1 as\n",
    "select id, split(state, ',')[offset(0)] city, split(state, ',')[offset(1)] state, country, latitude, longitude\n",
    "from covid_19_modeled.Location_Temp\n",
    "where strpos(state, ',') > 0"
   ]
  },
  {
   "cell_type": "code",
   "execution_count": null,
   "metadata": {},
   "outputs": [],
   "source": [
    "%%bigquery\n",
    "select count(*) as city_state_location_count\n",
    "from covid_19_modeled.Location_SQL1"
   ]
  },
  {
   "cell_type": "code",
   "execution_count": null,
   "metadata": {},
   "outputs": [],
   "source": [
    "%%bigquery\n",
    "select id, state, cast(null as string) as city, country, latitude, longitude\n",
    "from covid_19_modeled.Location_Temp\n",
    "where strpos(state, ',') = 0\n",
    "limit 6"
   ]
  },
  {
   "cell_type": "code",
   "execution_count": null,
   "metadata": {},
   "outputs": [],
   "source": [
    "%%bigquery\n",
    "create or replace table covid_19_modeled.Location_SQL2 as\n",
    "select id, state, cast(null as string) as city, country, latitude, longitude\n",
    "from covid_19_modeled.Location_Temp\n",
    "where strpos(state, ',') = 0"
   ]
  },
  {
   "cell_type": "code",
   "execution_count": null,
   "metadata": {},
   "outputs": [],
   "source": [
    "%%bigquery\n",
    "select count(*) as state_location_count\n",
    "from covid_19_modeled.Location_SQL2"
   ]
  },
  {
   "cell_type": "code",
   "execution_count": null,
   "metadata": {},
   "outputs": [],
   "source": [
    "%%bigquery\n",
    "select count(*) null_state_location_count\n",
    "from covid_19_modeled.Location_Temp\n",
    "where state is null"
   ]
  },
  {
   "cell_type": "markdown",
   "metadata": {},
   "source": [
    "#### Q9: Create table Location_SQL3 based on Location_SQL1 + Location_SQL2 + null states"
   ]
  },
  {
   "cell_type": "code",
   "execution_count": null,
   "metadata": {},
   "outputs": [],
   "source": []
  },
  {
   "cell_type": "code",
   "execution_count": null,
   "metadata": {},
   "outputs": [],
   "source": [
    "%%bigquery\n",
    "select count(*) as location_count\n",
    "from covid_19_modeled.Location_SQL3"
   ]
  },
  {
   "cell_type": "markdown",
   "metadata": {},
   "source": [
    "### Option B: Standardize city, state with Beam"
   ]
  },
  {
   "cell_type": "code",
   "execution_count": null,
   "metadata": {},
   "outputs": [],
   "source": [
    "%run Location_beam1.py"
   ]
  },
  {
   "cell_type": "code",
   "execution_count": null,
   "metadata": {},
   "outputs": [],
   "source": [
    "%%bigquery\n",
    "select count(*) as total_location_count from covid_19_modeled.Location_Beam1"
   ]
  },
  {
   "cell_type": "markdown",
   "metadata": {},
   "source": [
    "#### Check primary key constraint on Location table"
   ]
  },
  {
   "cell_type": "code",
   "execution_count": null,
   "metadata": {},
   "outputs": [],
   "source": [
    "%%bigquery\n",
    "select count(distinct id) as distinct_location_count from covid_19_modeled.Location_SQL3"
   ]
  },
  {
   "cell_type": "code",
   "execution_count": null,
   "metadata": {},
   "outputs": [],
   "source": [
    "%%bigquery\n",
    "select count(distinct id) as distinct_location_count from covid_19_modeled.Location_Beam1"
   ]
  },
  {
   "cell_type": "code",
   "execution_count": null,
   "metadata": {},
   "outputs": [],
   "source": [
    "%%bigquery\n",
    "select id, count(*) as duplicate_records\n",
    "from covid_19_modeled.Location_Beam1\n",
    "group by id\n",
    "having count(*) > 1\n",
    "limit 12"
   ]
  },
  {
   "cell_type": "code",
   "execution_count": null,
   "metadata": {},
   "outputs": [],
   "source": [
    "%%bigquery\n",
    "select * from covid_19_modeled.Location_Beam1\n",
    "where id in (-823610271364515484, -5175654635300698393, 7752613693761280071)\n",
    "order by id, latitude desc, longitude desc"
   ]
  },
  {
   "cell_type": "markdown",
   "metadata": {},
   "source": [
    "### Option A: Remove duplicate location records with SQL"
   ]
  },
  {
   "cell_type": "code",
   "execution_count": null,
   "metadata": {},
   "outputs": [],
   "source": [
    "%%bigquery\n",
    "select *, \n",
    "rank() over (partition by id order by latitude desc, longitude desc) as rank\n",
    "from covid_19_modeled.Location_SQL3\n",
    "where id in (-823610271364515484, -5175654635300698393, 7752613693761280071)"
   ]
  },
  {
   "cell_type": "code",
   "execution_count": null,
   "metadata": {},
   "outputs": [],
   "source": [
    "%%bigquery\n",
    "create or replace table covid_19_modeled.Location_SQL4 as\n",
    "select id, city, state, country, latitude, longitude from\n",
    "(select *, \n",
    "rank() over (partition by id order by latitude desc, longitude desc) as rank\n",
    "from covid_19_modeled.Location_SQL3)\n",
    "where rank = 1"
   ]
  },
  {
   "cell_type": "markdown",
   "metadata": {},
   "source": [
    "#### Recheck primary key on Location_SQL4"
   ]
  },
  {
   "cell_type": "code",
   "execution_count": null,
   "metadata": {},
   "outputs": [],
   "source": [
    "%%bigquery\n",
    "select count(*) as total_location_count from covid_19_modeled.Location_SQL4"
   ]
  },
  {
   "cell_type": "code",
   "execution_count": null,
   "metadata": {},
   "outputs": [],
   "source": [
    "%%bigquery\n",
    "select count(distinct id) as distinct_location_count from covid_19_modeled.Location_SQL4"
   ]
  },
  {
   "cell_type": "markdown",
   "metadata": {},
   "source": [
    "### Option B: Remove duplicate location records with Beam "
   ]
  },
  {
   "cell_type": "code",
   "execution_count": null,
   "metadata": {},
   "outputs": [],
   "source": [
    "%run Location_beam2.py"
   ]
  },
  {
   "cell_type": "markdown",
   "metadata": {},
   "source": [
    "### Recheck primary key on the Location table"
   ]
  },
  {
   "cell_type": "code",
   "execution_count": null,
   "metadata": {},
   "outputs": [],
   "source": [
    "%%bigquery\n",
    "select count(*) as total_location_count from covid_19_modeled.Location_Beam2"
   ]
  },
  {
   "cell_type": "code",
   "execution_count": null,
   "metadata": {},
   "outputs": [],
   "source": [
    "%%bigquery\n",
    "select count(distinct id) as distinct_location_count from covid_19_modeled.Location_Beam2"
   ]
  },
  {
   "cell_type": "markdown",
   "metadata": {},
   "source": [
    "### Check foreign key (location_id on Event_Beam2)"
   ]
  },
  {
   "cell_type": "code",
   "execution_count": null,
   "metadata": {},
   "outputs": [],
   "source": [
    "%%bigquery\n",
    "select count(*) as foreign_key_violations\n",
    "from covid_19_modeled.Event e left join covid_19_modeled.Location_Beam2 l on e.location_id = l.id\n",
    "where l.id is null"
   ]
  },
  {
   "cell_type": "code",
   "execution_count": null,
   "metadata": {},
   "outputs": [],
   "source": [
    "%%bigquery\n",
    "select count(*) as foreign_key_violations\n",
    "from covid_19_modeled.Event e left join covid_19_modeled.Location_SQL4 l on e.location_id = l.id\n",
    "where l.id is null"
   ]
  },
  {
   "cell_type": "markdown",
   "metadata": {},
   "source": [
    "### Check that Location_Beam2 == Location_SQL4 "
   ]
  },
  {
   "cell_type": "code",
   "execution_count": null,
   "metadata": {},
   "outputs": [],
   "source": [
    "%%bigquery\n",
    "select *, count(*) as count\n",
    "from\n",
    "(select *\n",
    "from covid_19_modeled.Location_SQL4 \n",
    "union all\n",
    "select *\n",
    "from covid_19_modeled.Location_Beam2)\n",
    "group by id, city, state, country, latitude, longitude\n",
    "having count(*) != 2\n",
    "order by id"
   ]
  },
  {
   "cell_type": "code",
   "execution_count": null,
   "metadata": {},
   "outputs": [],
   "source": [
    "%%bigquery\n",
    "select * \n",
    "from covid_19_modeled.Location_SQL4\n",
    "where id = -7197486485537661273"
   ]
  },
  {
   "cell_type": "code",
   "execution_count": null,
   "metadata": {},
   "outputs": [],
   "source": [
    "%%bigquery\n",
    "select * \n",
    "from covid_19_modeled.Location_Beam2\n",
    "where id = -7197486485537661273"
   ]
  },
  {
   "cell_type": "code",
   "execution_count": null,
   "metadata": {},
   "outputs": [],
   "source": [
    "%%bigquery\n",
    "select * \n",
    "from covid_19_modeled.Location_Temp\n",
    "where id = -7197486485537661273"
   ]
  },
  {
   "cell_type": "markdown",
   "metadata": {},
   "source": [
    "### Manually looked up coordinates for French Polynesia here: https://latitude.to/map/pf/french-polynesia"
   ]
  },
  {
   "cell_type": "code",
   "execution_count": null,
   "metadata": {},
   "outputs": [],
   "source": [
    "%%bigquery\n",
    "update covid_19_modeled.Location_SQL4 set longitude = -149.4068 where id = -7197486485537661273"
   ]
  },
  {
   "cell_type": "code",
   "execution_count": null,
   "metadata": {},
   "outputs": [],
   "source": [
    "%%bigquery\n",
    "select *, count(*) as count\n",
    "from\n",
    "(select *\n",
    "from covid_19_modeled.Location_SQL4 \n",
    "union all\n",
    "select *\n",
    "from covid_19_modeled.Location_Beam2)\n",
    "group by id, city, state, country, latitude, longitude\n",
    "having count(*) != 2\n",
    "order by id"
   ]
  },
  {
   "cell_type": "code",
   "execution_count": null,
   "metadata": {},
   "outputs": [],
   "source": [
    "%%bigquery\n",
    "(select * \n",
    "from covid_19_modeled.Location_Beam2\n",
    "union distinct\n",
    "select * from \n",
    "covid_19_modeled.Location_SQL4)\n",
    "except distinct\n",
    "(select * from covid_19_modeled.Location_Beam2\n",
    "intersect distinct\n",
    "select * from covid_19_modeled.Location_SQL4)"
   ]
  },
  {
   "cell_type": "markdown",
   "metadata": {},
   "source": [
    "#### Q10: Create Location table from Location_SQL4"
   ]
  },
  {
   "cell_type": "code",
   "execution_count": null,
   "metadata": {},
   "outputs": [],
   "source": []
  },
  {
   "cell_type": "markdown",
   "metadata": {},
   "source": [
    "### Done modeling Event and Location tables. "
   ]
  }
 ],
 "metadata": {
  "kernelspec": {
   "display_name": "Python (beam_venv)",
   "language": "python",
   "name": "beam_venv_kernel"
  },
  "language_info": {
   "codemirror_mode": {
    "name": "ipython",
    "version": 3
   },
   "file_extension": ".py",
   "mimetype": "text/x-python",
   "name": "python",
   "nbconvert_exporter": "python",
   "pygments_lexer": "ipython3",
   "version": "3.5.3"
  }
 },
 "nbformat": 4,
 "nbformat_minor": 4
}
